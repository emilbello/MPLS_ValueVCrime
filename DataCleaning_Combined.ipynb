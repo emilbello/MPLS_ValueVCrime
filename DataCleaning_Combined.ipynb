{
 "cells": [
  {
   "cell_type": "markdown",
   "metadata": {},
   "source": [
    "# CLEANING DATA USING API"
   ]
  },
  {
   "cell_type": "code",
   "execution_count": null,
   "metadata": {},
   "outputs": [],
   "source": [
    "# Import Dependencies\n",
    "import pandas as pd\n",
    "import numpy as np\n",
    "import datetime\n",
    "import calendar"
   ]
  },
  {
   "cell_type": "markdown",
   "metadata": {},
   "source": [
    "# MPLS Police Data"
   ]
  },
  {
   "cell_type": "code",
   "execution_count": null,
   "metadata": {
    "scrolled": true
   },
   "outputs": [],
   "source": [
    "#Import MPLS Police Data 2017-2020\n",
    "MPLS_2020_Police_csv = \"DataSets/2020_MPLS_Police_Incidents.csv\"\n",
    "MPLS_2019_Police_csv = \"DataSets/2019_MPLS_Police_Incidents.csv\"\n",
    "MPLS_2018_Police_csv = \"DataSets/2018_MPLS_Police_Incidents.csv\"\n",
    "MPLS_2017_Police_csv = \"DataSets/2017_MPLS_Police_Incidents.csv\"\n",
    "\n",
    "#Read MPLS Police Data into DF\n",
    "MPLS_2020_Police_df = pd.read_csv(MPLS_2020_Police_csv)\n",
    "MPLS_2019_Police_df = pd.read_csv(MPLS_2019_Police_csv)\n",
    "MPLS_2018_Police_df = pd.read_csv(MPLS_2018_Police_csv)\n",
    "MPLS_2017_Police_df = pd.read_csv(MPLS_2017_Police_csv)"
   ]
  },
  {
   "cell_type": "code",
   "execution_count": null,
   "metadata": {},
   "outputs": [],
   "source": [
    "MPLS_2020_Police_df.head()"
   ]
  },
  {
   "cell_type": "code",
   "execution_count": null,
   "metadata": {},
   "outputs": [],
   "source": [
    "# Including the year column\n",
    "MPLS_2017_Police_df['YEAR'] = pd.DatetimeIndex(MPLS_2017_Police_df['ReportedDate']).year\n",
    "MPLS_2018_Police_df['YEAR'] = pd.DatetimeIndex(MPLS_2018_Police_df['ReportedDate']).year\n",
    "MPLS_2019_Police_df['YEAR'] = pd.DatetimeIndex(MPLS_2019_Police_df['reportedDate']).year\n",
    "MPLS_2020_Police_df['YEAR'] = pd.DatetimeIndex(MPLS_2020_Police_df['reportedDate']).year"
   ]
  },
  {
   "cell_type": "code",
   "execution_count": null,
   "metadata": {},
   "outputs": [],
   "source": [
    "print(MPLS_2017_Police_df.shape)\n",
    "print(MPLS_2018_Police_df.shape)\n",
    "print(MPLS_2019_Police_df.shape)\n",
    "print(MPLS_2020_Police_df.shape)"
   ]
  },
  {
   "cell_type": "code",
   "execution_count": null,
   "metadata": {},
   "outputs": [],
   "source": [
    "MPLS_2017_Police_df['MONTH'] = pd.DatetimeIndex(MPLS_2017_Police_df['ReportedDate']).month\n",
    "MPLS_2018_Police_df['MONTH'] = pd.DatetimeIndex(MPLS_2018_Police_df['ReportedDate']).month\n",
    "MPLS_2019_Police_df['MONTH'] = pd.DatetimeIndex(MPLS_2019_Police_df['reportedDate']).month\n",
    "MPLS_2020_Police_df['MONTH'] = pd.DatetimeIndex(MPLS_2020_Police_df['reportedDate']).month"
   ]
  },
  {
   "cell_type": "code",
   "execution_count": null,
   "metadata": {
    "scrolled": true
   },
   "outputs": [],
   "source": [
    "MPLS_2017_Police_df.head(1)"
   ]
  },
  {
   "cell_type": "code",
   "execution_count": null,
   "metadata": {},
   "outputs": [],
   "source": [
    "### DO NOT RUN THIS CELL TWICE ###\n",
    "\n",
    "#Get Columns needed in MPLS Police Data & Rename\n",
    "MPLS_2020_Police_df = MPLS_2020_Police_df[[\"neighborhood\", \"offense\", \"description\", \"UCRCode\", \"YEAR\", \"MONTH\"]]\n",
    "MPLS_2019_Police_df = MPLS_2019_Police_df[[\"neighborhood\", \"offense\", \"description\", \"UCRCode\", \"YEAR\", \"MONTH\"]]\n",
    "MPLS_2018_Police_df = MPLS_2018_Police_df[[\"Neighborhood\", \"Offense\", \"Description\", \"UCRCode\", \"YEAR\", \"MONTH\"]]\n",
    "MPLS_2017_Police_df = MPLS_2017_Police_df[[\"Neighborhood\", \"Offense\", \"Description\", \"UCRCode\", \"YEAR\", \"MONTH\"]]\n",
    "\n",
    "#Capitalize all values on the df that will be used as header\n",
    "MPLS_2020_Police_df = MPLS_2020_Police_df.rename(columns={\"neighborhood\":\"NEIGHBORHOOD\", \"offense\":\"OFFENSE\", \"description\":\"DESCRIPTION\"})\n",
    "\n",
    "#Drop data with missing values\n",
    "MPLS_2020_Police_df = MPLS_2020_Police_df.dropna(how = 'any') \n",
    "MPLS_2019_Police_df = MPLS_2019_Police_df.dropna(how = 'any')\n",
    "MPLS_2018_Police_df = MPLS_2018_Police_df.dropna(how = 'any')\n",
    "MPLS_2017_Police_df = MPLS_2017_Police_df.dropna(how = 'any')\n",
    "\n",
    "### DO NOT RUN THIS CELL TWICE ###"
   ]
  },
  {
   "cell_type": "code",
   "execution_count": null,
   "metadata": {},
   "outputs": [],
   "source": [
    "#Uppercase neighborhoods values\n",
    "MPLS_2020_Police_df['NEIGHBORHOOD'] = MPLS_2020_Police_df['NEIGHBORHOOD'].str.upper()\n",
    "MPLS_2019_Police_df['neighborhood'] = MPLS_2019_Police_df['neighborhood'].str.upper() \n",
    "MPLS_2018_Police_df['Neighborhood'] = MPLS_2018_Police_df['Neighborhood'].str.upper() \n",
    "MPLS_2017_Police_df['Neighborhood'] = MPLS_2017_Police_df['Neighborhood'].str.upper() "
   ]
  },
  {
   "cell_type": "code",
   "execution_count": null,
   "metadata": {},
   "outputs": [],
   "source": [
    "MPLS_2020_Police_df['OFFENSE'].count() #Checking for reference later when codes merged (violent/non)"
   ]
  },
  {
   "cell_type": "code",
   "execution_count": null,
   "metadata": {},
   "outputs": [],
   "source": [
    "# Appending the datasets for Police\n",
    "MPLS_Police_All_df = pd.DataFrame(np.concatenate([\n",
    "                                    MPLS_2017_Police_df.values,\n",
    "                                    MPLS_2018_Police_df.values,\n",
    "                                    MPLS_2019_Police_df.values,\n",
    "                                    MPLS_2020_Police_df.values]),\n",
    "                                    columns = MPLS_2020_Police_df.columns)\n",
    "\n",
    "# Police in one DF\n",
    "MPLS_Police_All_df.head()"
   ]
  },
  {
   "cell_type": "code",
   "execution_count": null,
   "metadata": {},
   "outputs": [],
   "source": [
    "MPLS_Police_All_df.shape"
   ]
  },
  {
   "cell_type": "code",
   "execution_count": null,
   "metadata": {},
   "outputs": [],
   "source": [
    "# Stripping leading and trailing spaces of columns for the merging with URC Code file\n",
    "MPLS_Police_All_df['OFFENSE'] = MPLS_Police_All_df['OFFENSE'].str.strip()\n",
    "MPLS_Police_All_df['NEIGHBORHOOD'] = MPLS_Police_All_df['NEIGHBORHOOD'].str.strip()"
   ]
  },
  {
   "cell_type": "markdown",
   "metadata": {},
   "source": [
    "# UCR Code"
   ]
  },
  {
   "cell_type": "code",
   "execution_count": null,
   "metadata": {},
   "outputs": [],
   "source": [
    "#Import UCR Codes #WILL HAVE TO ADD DOCUMENTATION OF HOW WE CLASSIFIED EACH\n",
    "#If we import all codes it doubles on every line ##CAN DELETE AFTER EXPLAINING THIS\n",
    "UCRCodes_csv = \"DataSets/UCRCodes.csv\""
   ]
  },
  {
   "cell_type": "code",
   "execution_count": null,
   "metadata": {},
   "outputs": [],
   "source": [
    "#Read UCR Codes into DF\n",
    "UCRCodes_df = pd.read_csv(UCRCodes_csv)\n",
    "ucrcodes_df = UCRCodes_df[[\"OFFENSE\",\"UCRCode\",\"CATEGORY\"]]\n",
    "\n",
    "# convert UCR Code into an int\n",
    "# ucrcodes_df[\"UCRCode\"] = ucrcodes_df[\"UCRCode\"].astype(int)"
   ]
  },
  {
   "cell_type": "code",
   "execution_count": null,
   "metadata": {},
   "outputs": [],
   "source": [
    "ucrcodes_df.head()"
   ]
  },
  {
   "cell_type": "code",
   "execution_count": null,
   "metadata": {},
   "outputs": [],
   "source": [
    "ucrcodes_df['OFFENSE'].nunique"
   ]
  },
  {
   "cell_type": "code",
   "execution_count": null,
   "metadata": {},
   "outputs": [],
   "source": [
    "MPLS_Police_All_df['OFFENSE'].nunique"
   ]
  },
  {
   "cell_type": "code",
   "execution_count": null,
   "metadata": {},
   "outputs": [],
   "source": [
    "MPLS_Police_All_df.head()"
   ]
  },
  {
   "cell_type": "code",
   "execution_count": null,
   "metadata": {},
   "outputs": [],
   "source": [
    "#Violent/NonViolent Crime Merge with Crime Data - Export as CSV for reference\n",
    "Police_Master = pd.merge(MPLS_Police_All_df, ucrcodes_df, on=\"OFFENSE\", how='left')\n"
   ]
  },
  {
   "cell_type": "code",
   "execution_count": null,
   "metadata": {},
   "outputs": [],
   "source": [
    "Police_Master.shape"
   ]
  },
  {
   "cell_type": "code",
   "execution_count": null,
   "metadata": {},
   "outputs": [],
   "source": [
    "# Looking for possible missmatches or missing values:\n",
    "Police_Master['CATEGORY'].isnull().sum()"
   ]
  },
  {
   "cell_type": "markdown",
   "metadata": {},
   "source": [
    "# MPLS Parcel Data"
   ]
  },
  {
   "cell_type": "code",
   "execution_count": null,
   "metadata": {},
   "outputs": [],
   "source": [
    "#Import MPLS Parcel Data 2017-2020\n",
    "MPLS_2020_Parcel_csv = \"DataSets/2020_MPLS_Assessors_Parcel_Data.csv\"\n",
    "MPLS_2019_Parcel_csv = \"DataSets/2019_MPLS_Assessors_Parcel_Data.csv\"\n",
    "MPLS_2018_Parcel_csv = \"DataSets/2018_MPLS_Assessors_Parcel_Data.csv\"\n",
    "MPLS_2017_Parcel_csv = \"DataSets/2017_MPLS_Assessors_Parcel_Data.csv\"\n",
    "\n",
    "#Read MPLS Parcel Data into DF\n",
    "MPLS_2020_Parcel_df = pd.read_csv(MPLS_2020_Parcel_csv)\n",
    "MPLS_2019_Parcel_df = pd.read_csv(MPLS_2019_Parcel_csv)\n",
    "MPLS_2018_Parcel_df = pd.read_csv(MPLS_2018_Parcel_csv)\n",
    "MPLS_2017_Parcel_df = pd.read_csv(MPLS_2017_Parcel_csv)\n",
    "\n",
    "print(MPLS_2020_Parcel_df.shape)\n",
    "print(MPLS_2019_Parcel_df.shape)\n",
    "print(MPLS_2018_Parcel_df.shape)\n",
    "print(MPLS_2017_Parcel_df.shape)"
   ]
  },
  {
   "cell_type": "code",
   "execution_count": null,
   "metadata": {},
   "outputs": [],
   "source": [
    "#Get Columns needed in MPLS Parcel Data\n",
    "MPLS_2020_Parcel_df = MPLS_2020_Parcel_df[[\"ASSESSMENT_YEAR\", \"TOTALVALUE\", \"HOMESTEAD\", \"NEIGHBORHOOD\", \"PROPERTY_TYPE\"]]\n",
    "MPLS_2019_Parcel_df = MPLS_2019_Parcel_df[[\"ASSESSMENT_YEAR\", \"TOTALVALUE\", \"HOMESTEAD\", \"NEIGHBORHOOD\", \"PROPERTY_TYPE\"]]\n",
    "MPLS_2018_Parcel_df = MPLS_2018_Parcel_df[[\"ASSESSMENT_YEAR\", \"TOTALVALUE\", \"HOMESTEAD\", \"NEIGHBORHOOD\", \"PROPERTY_TYPE\"]]\n",
    "MPLS_2017_Parcel_df = MPLS_2017_Parcel_df[[\"ASSESSMENT_YEAR\", \"TOTALVALUE\", \"HOMESTEAD\", \"NEIGHBORHOOD\", \"PROPERTY_TYPE\"]]\n"
   ]
  },
  {
   "cell_type": "code",
   "execution_count": null,
   "metadata": {},
   "outputs": [],
   "source": [
    "# Appending the datasets for parcel data\n",
    "MPLS_Parcel_All_df = pd.DataFrame(np.concatenate([\n",
    "                                    MPLS_2017_Parcel_df.values,\n",
    "                                    MPLS_2018_Parcel_df.values,\n",
    "                                    MPLS_2019_Parcel_df.values,\n",
    "                                    MPLS_2020_Parcel_df.values]),\n",
    "                                    columns = MPLS_2020_Parcel_df.columns)\n",
    "\n",
    "# Parcel data in one DF\n",
    "MPLS_Parcel_All_df.head()"
   ]
  },
  {
   "cell_type": "code",
   "execution_count": null,
   "metadata": {},
   "outputs": [],
   "source": [
    "MPLS_Parcel_All_df.shape"
   ]
  },
  {
   "cell_type": "code",
   "execution_count": null,
   "metadata": {},
   "outputs": [],
   "source": [
    "# Removing rows with total value = 0. \n",
    "MPLS_Parcel_NoNull_df = MPLS_Parcel_All_df.loc[MPLS_Parcel_All_df[\"TOTALVALUE\"] != 0]"
   ]
  },
  {
   "cell_type": "code",
   "execution_count": null,
   "metadata": {},
   "outputs": [],
   "source": [
    "MPLS_Parcel_NoNull_df.shape"
   ]
  },
  {
   "cell_type": "code",
   "execution_count": null,
   "metadata": {},
   "outputs": [],
   "source": [
    "MPLS_Parcel_NoNull_df.head()"
   ]
  },
  {
   "cell_type": "markdown",
   "metadata": {},
   "source": [
    "# Exploring the data to define property type to be removed"
   ]
  },
  {
   "cell_type": "code",
   "execution_count": null,
   "metadata": {},
   "outputs": [],
   "source": [
    "# Property types info\n",
    "\n",
    "Pivot_check = MPLS_Parcel_NoNull_df.pivot(columns='PROPERTY_TYPE', values= 'TOTALVALUE').fillna(0).round(2)\n",
    "PivotCheckSumm = Pivot_check.describe(include='all')\n",
    "PivotCheckSumm\n"
   ]
  },
  {
   "cell_type": "code",
   "execution_count": null,
   "metadata": {},
   "outputs": [],
   "source": [
    "PivotCheckSummT = PivotCheckSumm.T\n",
    "PivotCheckSummT"
   ]
  },
  {
   "cell_type": "code",
   "execution_count": null,
   "metadata": {
    "scrolled": false
   },
   "outputs": [],
   "source": [
    "MPLS_Parcel_NoNull_df[\"PROPERTY_TYPE\"].nunique()"
   ]
  },
  {
   "cell_type": "code",
   "execution_count": null,
   "metadata": {
    "scrolled": true
   },
   "outputs": [],
   "source": [
    "MPLS_Parcel_NoNull_df.loc[MPLS_Parcel_NoNull_df['TOTALVALUE'] == 61700000]"
   ]
  },
  {
   "cell_type": "code",
   "execution_count": null,
   "metadata": {},
   "outputs": [],
   "source": [
    "# Find only lots with buildings 'attached' -- do we remove \"APARTMENT\" due to the price being only reflective of the owner of the apt?\n",
    "# REMOVE APARTMENTS AND NURSING HOMES\n",
    "Parcel_Master = MPLS_Parcel_NoNull_df.loc[(MPLS_Parcel_All_df[\"TOTALVALUE\"] != 0) &\n",
    "                                          (MPLS_Parcel_All_df[\"ASSESSMENT_YEAR\"] != 2020) &\n",
    "                                          (MPLS_Parcel_All_df[\"PROPERTY_TYPE\"] != \"APARTMENT\") &\n",
    "                                          (MPLS_Parcel_All_df[\"PROPERTY_TYPE\"] != \"COMMERCIAL\") &\n",
    "                                          (MPLS_Parcel_All_df[\"PROPERTY_TYPE\"] != \"CONDO - GARAGE/MISC\") &\n",
    "                                          (MPLS_Parcel_All_df[\"PROPERTY_TYPE\"] != \"COOPERATIVE\") &\n",
    "                                          (MPLS_Parcel_All_df[\"PROPERTY_TYPE\"] != \"CONDOMINIUM\") &\n",
    "                                          (MPLS_Parcel_All_df[\"PROPERTY_TYPE\"] != \"INDUSTRIAL\") &\n",
    "                                          (MPLS_Parcel_All_df[\"PROPERTY_TYPE\"] != \"NURSING HOME\") &\n",
    "                                          (MPLS_Parcel_All_df[\"PROPERTY_TYPE\"] != \"SORORITY/FRATERNITY HOUSE\") &\n",
    "                                          (MPLS_Parcel_All_df[\"PROPERTY_TYPE\"] != \"VACANT LAND - APARTMENT\") &\n",
    "                                          (MPLS_Parcel_All_df[\"PROPERTY_TYPE\"] != \"VACANT LAND - RESIDENTIAL\") &\n",
    "                                          (MPLS_Parcel_All_df[\"PROPERTY_TYPE\"] != \"VACANT LAND - COMMERCIAL\") &\n",
    "                                          (MPLS_Parcel_All_df[\"PROPERTY_TYPE\"] != \"VACANT LAND - INDUSTRIAL\")]\n",
    "Parcel_Master"
   ]
  },
  {
   "cell_type": "code",
   "execution_count": null,
   "metadata": {},
   "outputs": [],
   "source": [
    "Parcel_Master.shape"
   ]
  },
  {
   "cell_type": "code",
   "execution_count": null,
   "metadata": {},
   "outputs": [],
   "source": [
    "# Counting values for comparison after cleaning\n",
    "Parcel_Master['NEIGHBORHOOD'].value_counts()"
   ]
  },
  {
   "cell_type": "code",
   "execution_count": null,
   "metadata": {},
   "outputs": [],
   "source": [
    "# Dropping data with missing values\n",
    "Parcel_Master = Parcel_Master.dropna(how = 'any')"
   ]
  },
  {
   "cell_type": "code",
   "execution_count": null,
   "metadata": {},
   "outputs": [],
   "source": [
    "# Checking cleaned DF\n",
    "Parcel_Master.shape"
   ]
  },
  {
   "cell_type": "code",
   "execution_count": null,
   "metadata": {},
   "outputs": [],
   "source": [
    "Parcel_Master['NEIGHBORHOOD'].value_counts()"
   ]
  },
  {
   "cell_type": "code",
   "execution_count": null,
   "metadata": {},
   "outputs": [],
   "source": [
    "Parcel_Master.loc[ Parcel_Master['NEIGHBORHOOD'] == 'NULL CONVERSION'].sort_values(by=['ASSESSMENT_YEAR'])"
   ]
  },
  {
   "cell_type": "code",
   "execution_count": null,
   "metadata": {},
   "outputs": [],
   "source": [
    "Parcel_Master = Parcel_Master.loc[Parcel_Master['NEIGHBORHOOD'] != 'NULL CONVERSION']\n",
    "Parcel_Master.head()"
   ]
  },
  {
   "cell_type": "code",
   "execution_count": null,
   "metadata": {},
   "outputs": [],
   "source": [
    "Parcel_Master.shape"
   ]
  },
  {
   "cell_type": "code",
   "execution_count": null,
   "metadata": {
    "scrolled": true
   },
   "outputs": [],
   "source": [
    "Parcel_Master['NEIGHBORHOOD'].value_counts()"
   ]
  },
  {
   "cell_type": "code",
   "execution_count": null,
   "metadata": {},
   "outputs": [],
   "source": [
    "Parcel_Master_2020 = MPLS_Parcel_NoNull_df.loc[(MPLS_Parcel_All_df[\"TOTALVALUE\"] != 0) &\n",
    "                                          (MPLS_Parcel_All_df[\"ASSESSMENT_YEAR\"] == 2020) &\n",
    "                                          (MPLS_Parcel_All_df[\"PROPERTY_TYPE\"] != \"APARTMENT\") &\n",
    "                                          (MPLS_Parcel_All_df[\"PROPERTY_TYPE\"] != \"COMMERCIAL\") &\n",
    "                                          (MPLS_Parcel_All_df[\"PROPERTY_TYPE\"] != \"CONDO - GARAGE/MISC\") &\n",
    "                                          (MPLS_Parcel_All_df[\"PROPERTY_TYPE\"] != \"COOPERATIVE\") &\n",
    "                                          (MPLS_Parcel_All_df[\"PROPERTY_TYPE\"] != \"CONDOMINIUM\") &\n",
    "                                          (MPLS_Parcel_All_df[\"PROPERTY_TYPE\"] != \"INDUSTRIAL\") &\n",
    "                                          (MPLS_Parcel_All_df[\"PROPERTY_TYPE\"] != \"NURSING HOME\") &\n",
    "                                          (MPLS_Parcel_All_df[\"PROPERTY_TYPE\"] != \"SORORITY/FRATERNITY HOUSE\") &\n",
    "                                          (MPLS_Parcel_All_df[\"PROPERTY_TYPE\"] != \"VACANT LAND - APARTMENT\") &\n",
    "                                          (MPLS_Parcel_All_df[\"PROPERTY_TYPE\"] != \"VACANT LAND - RESIDENTIAL\") &\n",
    "                                          (MPLS_Parcel_All_df[\"PROPERTY_TYPE\"] != \"VACANT LAND - COMMERCIAL\") &\n",
    "                                          (MPLS_Parcel_All_df[\"PROPERTY_TYPE\"] != \"VACANT LAND - INDUSTRIAL\") &\n",
    "                                          (MPLS_Parcel_All_df[\"NEIGHBORHOOD\"] != \"NULL CONVERSION\")]\n",
    "Parcel_Master_2020.head()"
   ]
  },
  {
   "cell_type": "code",
   "execution_count": null,
   "metadata": {},
   "outputs": [],
   "source": [
    "Parcel_Master_2020.shape"
   ]
  },
  {
   "cell_type": "code",
   "execution_count": null,
   "metadata": {},
   "outputs": [],
   "source": [
    "Parcel_Master_2020['NEIGHBORHOOD'].value_counts()"
   ]
  },
  {
   "cell_type": "code",
   "execution_count": null,
   "metadata": {},
   "outputs": [],
   "source": [
    "# Dropping data with missing values\n",
    "Parcel_Master_2020 = Parcel_Master_2020.dropna(how = 'any')"
   ]
  },
  {
   "cell_type": "code",
   "execution_count": null,
   "metadata": {},
   "outputs": [],
   "source": [
    "Parcel_Master_2020.shape"
   ]
  },
  {
   "cell_type": "markdown",
   "metadata": {},
   "source": [
    "# Census Data"
   ]
  },
  {
   "cell_type": "code",
   "execution_count": null,
   "metadata": {},
   "outputs": [],
   "source": [
    "#Import Census Data\n",
    "MPLS_Census_csv = \"DataSets/MPLS_2010_Census_Data_Clean.csv\"\n",
    "#Read Census Data into DF\n",
    "MPLS_Census_df = pd.read_csv(MPLS_Census_csv)\n",
    "\n",
    "MPLS_Census_df = MPLS_Census_df.dropna(how = 'any') #Drop null values\n",
    "MPLS_Census_df['Neighborhood'] = MPLS_Census_df['Neighborhood'].str.upper() #UPPERCASE NEIGHBORHOOD COLUMN\n",
    "MPLS_Census_df = MPLS_Census_df.rename(columns={\"Neighborhood\": \"NEIGHBORHOOD\"}) #UPPERCASE Neighborhood column name\n",
    "MPLS_Census_df[\"NEIGHBORHOOD\"] = MPLS_Census_df[\"NEIGHBORHOOD\"].str.strip() # Removing leading/reailing speaces\n",
    "# Renaming neighborhoods to avoid merge conflicts\n",
    "MPLS_Census_df = MPLS_Census_df.replace({\"NEIGHBORHOOD\": {'COLUMBIA PARK':'COLUMBIA', \n",
    "                                                          'UNIVERSITY OF MINNESOTA': 'UNIVERSITY'}})\n",
    "# Removing neighborhoods to avoid merge conflicts\n",
    "MPLS_Census_df = MPLS_Census_df.loc[(MPLS_Census_df[\"NEIGHBORHOOD\"] != 'CAMDEN INDUSTRIAL AREA') &\n",
    "                                    (MPLS_Census_df[\"NEIGHBORHOOD\"] != 'DOWNTOWN WEST') &\n",
    "                                    (MPLS_Census_df[\"NEIGHBORHOOD\"] != 'HUMBOLDT INDUST AREA') &\n",
    "                                    (MPLS_Census_df[\"NEIGHBORHOOD\"] != 'MID CITY INDUSTRIAL AR')]"
   ]
  },
  {
   "cell_type": "code",
   "execution_count": null,
   "metadata": {},
   "outputs": [],
   "source": [
    "#Set NEIGHBORHOOD as index\n",
    "MPLS_Census_df = MPLS_Census_df.set_index([\"NEIGHBORHOOD\"]) \n",
    "\n",
    "#Get rid of commas\n",
    "MPLS_Census_df = MPLS_Census_df['Total Population'].replace(',','', regex=True)"
   ]
  },
  {
   "cell_type": "code",
   "execution_count": null,
   "metadata": {},
   "outputs": [],
   "source": [
    "MPLS_Census_df"
   ]
  },
  {
   "cell_type": "markdown",
   "metadata": {},
   "source": [
    "# Final Changes and Saving Data Frames for Analysis"
   ]
  },
  {
   "cell_type": "code",
   "execution_count": null,
   "metadata": {},
   "outputs": [],
   "source": [
    "Police_Master.shape"
   ]
  },
  {
   "cell_type": "code",
   "execution_count": null,
   "metadata": {
    "scrolled": true
   },
   "outputs": [],
   "source": [
    "# renaming/removing neighborhoods to avoid mering conflicts form the police master data\n",
    "Police_Master_Cleaned = Police_Master.replace({\"NEIGHBORHOOD\":{'COLUMBIA PARK':'COLUMBIA', \n",
    "                                                       'NORTH LOOP': 'NORTHLOOP',\n",
    "                                                       'NICOLLET ISLAND - EAST BANK': 'NICOLLET IS/EAST BANK',\n",
    "                                                       'STEVEN SQ/LORING HGTS': 'STEVENS SQ/LORING HGTS',\n",
    "                                                       'STEVENS SQUARE - LORING HEIGHTS':'STEVENS SQ/LORING HGTS',\n",
    "                                                       'UNIVERSITY OF MINNESOTA': 'UNIVERSITY',\n",
    "                                                        'NEAR - NORTH': 'NEAR NORTH'}})"
   ]
  },
  {
   "cell_type": "code",
   "execution_count": null,
   "metadata": {},
   "outputs": [],
   "source": [
    "Police_Master.shape"
   ]
  },
  {
   "cell_type": "code",
   "execution_count": null,
   "metadata": {},
   "outputs": [],
   "source": [
    "Police_Master_Filtered = Police_Master_Cleaned.loc[\n",
    "                                  (Police_Master_Cleaned[\"NEIGHBORHOOD\"] != 'CAMDEN INDUSTRIAL') &\n",
    "                                  (Police_Master_Cleaned[\"NEIGHBORHOOD\"] != 'DOWNTOWN WEST') &\n",
    "                                  (Police_Master_Cleaned[\"NEIGHBORHOOD\"] != 'MID CITY INDUSTRIAL AR') &\n",
    "                                  (Police_Master_Cleaned[\"NEIGHBORHOOD\"] != 'HUMBOLDT INDUST AREA')]"
   ]
  },
  {
   "cell_type": "code",
   "execution_count": null,
   "metadata": {},
   "outputs": [],
   "source": [
    "Police_Master_Filtered.shape"
   ]
  },
  {
   "cell_type": "code",
   "execution_count": null,
   "metadata": {},
   "outputs": [],
   "source": [
    "Parcel_Master.to_csv('cleandata_output/Parcel_Master.csv')\n",
    "Parcel_Master_2020.to_csv('cleandata_output/Parcel_Master_2020.csv')"
   ]
  },
  {
   "cell_type": "code",
   "execution_count": null,
   "metadata": {},
   "outputs": [],
   "source": [
    "MPLS_Census_df.to_csv('cleandata_output/Census_Master.csv')"
   ]
  },
  {
   "cell_type": "code",
   "execution_count": null,
   "metadata": {},
   "outputs": [],
   "source": [
    "Police_Master = Police_Master_Filtered.loc[Police_Master_Filtered['YEAR'] != 2020]\n",
    "Police_Master_2020 = Police_Master_Filtered.loc[Police_Master_Filtered['YEAR'] == 2020]"
   ]
  },
  {
   "cell_type": "code",
   "execution_count": null,
   "metadata": {},
   "outputs": [],
   "source": [
    "Police_Master.to_csv('cleandata_output/Police_Master.csv')\n",
    "Police_Master_2020.to_csv('cleandata_output/Police_Master_2020.csv')"
   ]
  },
  {
   "cell_type": "code",
   "execution_count": null,
   "metadata": {},
   "outputs": [],
   "source": []
  }
 ],
 "metadata": {
  "kernelspec": {
   "display_name": "Python 3",
   "language": "python",
   "name": "python3"
  },
  "language_info": {
   "codemirror_mode": {
    "name": "ipython",
    "version": 3
   },
   "file_extension": ".py",
   "mimetype": "text/x-python",
   "name": "python",
   "nbconvert_exporter": "python",
   "pygments_lexer": "ipython3",
   "version": "3.6.10"
  }
 },
 "nbformat": 4,
 "nbformat_minor": 4
}
