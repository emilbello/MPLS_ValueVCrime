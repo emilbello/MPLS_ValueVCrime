{
 "cells": [
  {
   "cell_type": "code",
   "execution_count": null,
   "metadata": {},
   "outputs": [],
   "source": [
    "# Import Dependencies\n",
    "import pandas as pd\n",
    "import matplotlib.pyplot as plt\n",
    "import scipy.stats as st\n",
    "import numpy as np"
   ]
  },
  {
   "cell_type": "code",
   "execution_count": null,
   "metadata": {},
   "outputs": [],
   "source": [
    "# Importing and reading cleandata outputs\n",
    "\n",
    "crime_master_csv = \"cleandata_output/Police_Master.csv\"\n",
    "crime_master_2020_csv = \"cleandata_output/Police_Master_2020.csv\"\n",
    "\n",
    "parcel_master_csv = \"cleandata_output/Parcel_Master.csv\"\n",
    "parcel_master_2020_csv = \"cleandata_output/Parcel_Master_2020.csv\"\n",
    "\n",
    "census_master_csv = \"cleandata_output/Census_Master.csv\"\n",
    "\n",
    "#Read MPLS Police Data into DF\n",
    "crime_df = pd.read_csv(crime_master_csv)\n",
    "crime_2020_df = pd.read_csv(crime_master_2020_csv)\n",
    "parcel_df = pd.read_csv(parcel_master_csv)\n",
    "parcel_2020_df = pd.read_csv(parcel_master_2020_csv)\n",
    "census_df = pd.read_csv(census_master_csv)"
   ]
  },
  {
   "cell_type": "code",
   "execution_count": null,
   "metadata": {},
   "outputs": [],
   "source": [
    "#Michael Start"
   ]
  },
  {
   "cell_type": "code",
   "execution_count": null,
   "metadata": {},
   "outputs": [],
   "source": [
    "#Michael End"
   ]
  },
  {
   "cell_type": "code",
   "execution_count": null,
   "metadata": {},
   "outputs": [],
   "source": [
    "#Emilio Start"
   ]
  },
  {
   "cell_type": "code",
   "execution_count": null,
   "metadata": {},
   "outputs": [],
   "source": [
    "crime_by_nbh = crime_df[['NEIGHBORHOOD', 'OFFENSE']].groupby(['NEIGHBORHOOD']).count()\n",
    "parcel_by_nbh = parcel_df[['NEIGHBORHOOD', 'TOTALVALUE']].groupby(['NEIGHBORHOOD']).median()"
   ]
  },
  {
   "cell_type": "code",
   "execution_count": null,
   "metadata": {},
   "outputs": [],
   "source": [
    "parcel_by_nbh.count()"
   ]
  },
  {
   "cell_type": "code",
   "execution_count": null,
   "metadata": {
    "scrolled": true
   },
   "outputs": [],
   "source": [
    "crime_by_nbh.count() ### Investigate which neighborhood were excluded and why"
   ]
  },
  {
   "cell_type": "code",
   "execution_count": null,
   "metadata": {},
   "outputs": [],
   "source": [
    "housing_crime = pd.merge(parcel_by_nbh, crime_by_nbh, on='NEIGHBORHOOD', how='left')\n",
    "housing_crime['OFFENSE'].isnull().sum()"
   ]
  },
  {
   "cell_type": "code",
   "execution_count": null,
   "metadata": {},
   "outputs": [],
   "source": [
    "housing_crime.loc[housing_crime['OFFENSE'].isnull() == True]"
   ]
  },
  {
   "cell_type": "code",
   "execution_count": null,
   "metadata": {},
   "outputs": [],
   "source": [
    "#Plotting"
   ]
  },
  {
   "cell_type": "code",
   "execution_count": null,
   "metadata": {},
   "outputs": [],
   "source": [
    "x_values = housing_crime['TOTALVALUE']\n",
    "y_values = housing_crime['OFFENSE']\n",
    "\n",
    "plt.figure(figsize=(10,10))\n",
    "plt.scatter(x_values, y_values, color='#1A6675')\n",
    "plt.xlabel('PROPERTY VALUE MEDIAN ($)', fontsize=14)\n",
    "plt.ylabel('CRIME RATE', fontsize=14)\n",
    "plt.title('Median Property Value vs. Crime, by Neighborhood', fontsize=18)\n",
    "ax = plt.gca() #returns the access to object\n",
    "ax.get_yaxis().set_major_formatter(plt.FuncFormatter(lambda x, loc: \"{:,}\".format(int(x))))\n",
    "ax.get_xaxis().set_major_formatter(plt.FuncFormatter(lambda x, loc: \"{:,}\".format(int(x))))\n",
    "plt.tight_layout()\n",
    "plt.savefig('charts_output/01_s_Property_vs_Crime.png')\n",
    "plt.show()"
   ]
  },
  {
   "cell_type": "code",
   "execution_count": null,
   "metadata": {},
   "outputs": [],
   "source": [
    "# Correlation and Regression\n",
    "(slope, intercept, rvalue, pvalue, stderr) = st.linregress(x_values, y_values) \n",
    "# calculating the fit\n",
    "regress_values = x_values * slope + intercept\n",
    "# text holding the line equation:\n",
    "equation = f'y = {round(slope, 6)}x + {round(intercept)}'\n",
    "plt.figure(figsize=(10,10))\n",
    "plt.scatter(x_values, y_values, color='#1A6675')\n",
    "plt.annotate(equation, (600000,2000), fontsize=15, color='red')\n",
    "plt.plot(x_values, regress_values, \"r-\")\n",
    "plt.xlabel('PROPERTY VALUE MEDIAN ($)', fontsize=14)\n",
    "plt.ylabel('CRIME RATE', fontsize=14)\n",
    "plt.title('Median Property Value vs. Crime, by Neighborhood', fontsize=18)\n",
    "ax = plt.gca() #returns the access to object\n",
    "ax.get_yaxis().set_major_formatter(plt.FuncFormatter(lambda x, loc: \"{:,}\".format(int(x))))\n",
    "ax.get_xaxis().set_major_formatter(plt.FuncFormatter(lambda x, loc: \"{:,}\".format(int(x))))\n",
    "print(f'The correlation coefficient value r is {rvalue}')\n",
    "print(f'r-squared is {rvalue**2}')\n",
    "print(equation)\n",
    "plt.tight_layout()\n",
    "plt.savefig('charts_output/02_s_Correlation_Regression.png')\n",
    "plt.show()"
   ]
  },
  {
   "cell_type": "code",
   "execution_count": null,
   "metadata": {
    "scrolled": true
   },
   "outputs": [],
   "source": [
    "crime_df.head()"
   ]
  },
  {
   "cell_type": "code",
   "execution_count": null,
   "metadata": {},
   "outputs": [],
   "source": [
    "# exploring seasonality:\n",
    "crime_monthly = crime_df.groupby(['MONTH'])['OFFENSE'].count()\n",
    "crime_monthly_2020 = crime_2020_df.groupby(['MONTH'])['OFFENSE'].count()"
   ]
  },
  {
   "cell_type": "code",
   "execution_count": null,
   "metadata": {},
   "outputs": [],
   "source": [
    "month_ticks = [0, 1, 2, 3, 4, 5, 6, 7, 8, 9, 10, 11]\n",
    "month_labels = ['Jan', 'Feb', 'Mar', 'Apr', 'Mar', 'Jun', 'Jul', 'Aug', 'Sep', 'Oct', 'Nov', 'Dec']\n",
    "crime_season_plot = crime_monthly.plot(kind='bar', x='MONTH', y='OFFENSE', color='#755814', figsize=(18, 5))\n",
    "plt.xticks(month_ticks, month_labels, fontsize=12, rotation=0)\n",
    "plt.xlabel('MONTH', fontsize=14)\n",
    "plt.ylabel('CRIME RATE', fontsize=14)\n",
    "plt.title('Crime Seasonality', fontsize=18)\n",
    "ax = plt.gca() #returns the access to object\n",
    "ax.get_yaxis().set_major_formatter(plt.FuncFormatter(lambda x, loc: \"{:,}\".format(int(x))))\n",
    "plt.tight_layout()\n",
    "plt.savefig('charts_output/03_b_Seasonality.png')\n",
    "plt.show()"
   ]
  },
  {
   "cell_type": "code",
   "execution_count": null,
   "metadata": {},
   "outputs": [],
   "source": [
    "month_ticks_2020 = [0, 1, 2, 3, 4, 5, 6]\n",
    "month_labels_2020 = ['Jan', 'Feb', 'Mar', 'Apr', 'Mar', 'Jun', 'Jul']\n",
    "crime_season_2020_plot = crime_monthly_2020.plot(kind='bar', x='MONTH', y='OFFENSE', color='#C29221', figsize=(18, 5))\n",
    "plt.xlabel('MONTH', fontsize=14)\n",
    "plt.xticks(month_ticks_2020, month_labels_2020, fontsize=12, rotation=0)\n",
    "plt.ylabel('CRIME RATE', fontsize=14)\n",
    "plt.title('Crime Seasonality 2020', fontsize=18)\n",
    "ax = plt.gca() #returns the access to object\n",
    "ax.get_yaxis().set_major_formatter(plt.FuncFormatter(lambda x, loc: \"{:,}\".format(int(x))))\n",
    "plt.tight_layout()\n",
    "plt.savefig('charts_output/04_b_Seasonality_2020.png')\n",
    "plt.show()"
   ]
  },
  {
   "cell_type": "code",
   "execution_count": null,
   "metadata": {},
   "outputs": [],
   "source": [
    "parcel_by_nbh.head()"
   ]
  },
  {
   "cell_type": "code",
   "execution_count": null,
   "metadata": {
    "scrolled": false
   },
   "outputs": [],
   "source": [
    "parcel_by_nbh.plot.hist(bins=8, alpha=0.5, color='#1A6675', figsize=(18, 10)) # it is positively skewed (or skewed to the right)\n",
    "plt.title('Property Value Median Histogram, 8 bins', fontsize=18)\n",
    "plt.ylabel('FREQUENCY', fontsize=14)\n",
    "plt.xlabel('PROPERTY VALUE ($)', fontsize=14)\n",
    "plt.ticklabel_format(style='plain')\n",
    "ax = plt.gca() #returns the access to object\n",
    "ax.get_xaxis().set_major_formatter(plt.FuncFormatter(lambda x, loc: \"{:,}\".format(int(x))))\n",
    "plt.tight_layout()\n",
    "plt.savefig('charts_output/05_h_Seasonality_2020.png')\n",
    "plt.show"
   ]
  },
  {
   "cell_type": "code",
   "execution_count": null,
   "metadata": {},
   "outputs": [],
   "source": [
    "#Emilio End"
   ]
  },
  {
   "cell_type": "code",
   "execution_count": null,
   "metadata": {},
   "outputs": [],
   "source": [
    "#Matt Start"
   ]
  },
  {
   "cell_type": "markdown",
   "metadata": {},
   "source": [
    "# ALL YEARS (2017-2019) DATAFRAME"
   ]
  },
  {
   "cell_type": "code",
   "execution_count": null,
   "metadata": {},
   "outputs": [],
   "source": [
    "# Find Median Home price by Neighborhood\n",
    "parcel_median = parcel_df.groupby([\"NEIGHBORHOOD\"])[\"TOTALVALUE\"].median()\n",
    "\n",
    "# Find Total Crime by Neighborhood\n",
    "total_crime = crime_df[[\"NEIGHBORHOOD\", \"YEAR\"]].groupby([\"NEIGHBORHOOD\"]).count()\n",
    "\n",
    "# Find violent crime numbers\n",
    "crime_breakdown_violent = crime_df.loc[crime_df[\"CATEGORY\"] == \"Violent\"]\n",
    "crime_breakdown_violent = crime_breakdown_violent[[\"NEIGHBORHOOD\", \"YEAR\"]].groupby([\"NEIGHBORHOOD\"]).count()\n",
    "\n",
    "# Find non-violent crime numbers\n",
    "crime_breakdown_nonviolent = crime_df.loc[crime_df[\"CATEGORY\"] == \"Non-Violent\"]\n",
    "crime_breakdown_nonviolent = crime_breakdown_nonviolent[[\"NEIGHBORHOOD\", \"YEAR\"]].groupby([\"NEIGHBORHOOD\"]).count()\n",
    "\n",
    "# Merge all crime data with median home price - rename violent/non-violent\n",
    "nbh_crime_all = pd.merge(parcel_median, total_crime, on=\"NEIGHBORHOOD\", how='left')\n",
    "nbh_crime_violent = pd.merge(parcel_median, crime_breakdown_violent, on=\"NEIGHBORHOOD\", how='left')\n",
    "nbh_crime_nonviolent = pd.merge(parcel_median, crime_breakdown_nonviolent, on=\"NEIGHBORHOOD\", how='left')\n",
    "\n",
    "medhome_crime = pd.merge(total_crime, nbh_crime_violent, on=[\"NEIGHBORHOOD\"], how='left')\n",
    "medhome_crime = pd.merge(medhome_crime, nbh_crime_nonviolent, on=[\"NEIGHBORHOOD\", \"TOTALVALUE\"], how='left')\n",
    "\n",
    "medhome_crime = medhome_crime.rename(columns={\"TOTALVALUE\": \"Median Home Value\", \"YEAR_x\": \"Total Crime\", \"YEAR_y\": \"Violent Crime\", \"YEAR\": \"Non-Violent Crime\"})\n",
    "medhome_crime = medhome_crime[[\"Median Home Value\", \"Total Crime\", \"Violent Crime\", \"Non-Violent Crime\"]]\n",
    "\n",
    "# Add population\n",
    "medhome_crime = pd.merge(medhome_crime, census_df, on=\"NEIGHBORHOOD\", how='left')\n",
    "\n",
    "# Find Crime Rates\n",
    "total_crime_rate = (medhome_crime[\"Total Crime\"] / (medhome_crime[\"Total Population\"] / 100)).round(2)\n",
    "violent_crime_rate = (medhome_crime[\"Violent Crime\"] / (medhome_crime[\"Total Population\"] / 100)).round(2)\n",
    "nonviolent_crime_rate = (medhome_crime[\"Non-Violent Crime\"] / (medhome_crime[\"Total Population\"] / 100)).round(2)\n",
    "\n",
    "#Add crime rates to dataframe\n",
    "medhome_crime[\"Crime Rate (Total)\"] = total_crime_rate\n",
    "medhome_crime[\"Violent Crime Rate\"] = violent_crime_rate\n",
    "medhome_crime[\"Non-Violent Crime Rate\"] = nonviolent_crime_rate\n",
    "\n",
    "#Re-arrange columns\n",
    "medhome_crime = medhome_crime[[\"NEIGHBORHOOD\",\n",
    "                               \"Median Home Value\", \n",
    "                               \"Total Crime\", \n",
    "                               \"Violent Crime\", \n",
    "                               \"Non-Violent Crime\",\n",
    "                               \"Crime Rate (Total)\",\n",
    "                               \"Violent Crime Rate\",\n",
    "                               \"Non-Violent Crime Rate\",\n",
    "                               \"Total Population\"]]\n",
    "\n",
    "#Save to CSV\n",
    "medhome_crime.to_csv('cleandata_output/medhome_crime.csv')\n",
    "\n",
    "medhome_crime"
   ]
  },
  {
   "cell_type": "code",
   "execution_count": null,
   "metadata": {},
   "outputs": [],
   "source": [
    "medianhomevalue = medhome_crime.iloc[:,1]\n",
    "total_violent_crime = medhome_crime.iloc[:,3]\n",
    "total_nonviolent_crime = medhome_crime.iloc[:,4]\n",
    "plt.figure(figsize=(10,10))\n",
    "plt.scatter(medianhomevalue,total_violent_crime, marker='o', color='#FA3B02', label=\"Violent\")\n",
    "plt.scatter(medianhomevalue,total_nonviolent_crime, marker='o', color='#DAA520', label=\"Non-Violent\")\n",
    "# plt.xticks(medianhomevalue, rotation=90)\n",
    "plt.xlabel('PROPERTY VALUE MEDIAN ($)', fontsize=14)\n",
    "plt.ylabel('CRIME RATE', fontsize=14 )\n",
    "plt.title('Property Value Median vs. Crime, by Neighborhood', fontsize=18)\n",
    "plt.legend()\n",
    "\n",
    "plt.ticklabel_format(style='plain')\n",
    "ax = plt.gca() #returns the access to object\n",
    "ax.get_yaxis().set_major_formatter(plt.FuncFormatter(lambda x, loc: \"{:,}\".format(int(x))))\n",
    "ax.get_xaxis().set_major_formatter(plt.FuncFormatter(lambda x, loc: \"{:,}\".format(int(x))))\n",
    "plt.tight_layout()\n",
    "plt.savefig('charts_output/06_s_propval_crime.png')\n",
    "plt.show()"
   ]
  },
  {
   "cell_type": "markdown",
   "metadata": {},
   "source": [
    "# YEARLY DATAFRAMES"
   ]
  },
  {
   "cell_type": "code",
   "execution_count": null,
   "metadata": {},
   "outputs": [],
   "source": [
    "##### 2019 #####\n",
    "parcel_df_2019 = parcel_df.loc[parcel_df[\"ASSESSMENT_YEAR\"] == 2019]\n",
    "crime_df_2019 = crime_df.loc[crime_df[\"YEAR\"] == 2019]\n",
    "\n",
    "# Find Median Home price by Neighborhood\n",
    "parcel_median_2019 = parcel_df_2019.groupby([\"NEIGHBORHOOD\"])[\"TOTALVALUE\"].median()\n",
    "\n",
    "# Find Total Crime by Neighborhood\n",
    "total_crime_2019 = crime_df_2019[[\"NEIGHBORHOOD\", \"YEAR\"]].groupby([\"NEIGHBORHOOD\"]).count()\n",
    "\n",
    "# Find violent crime numbers\n",
    "crime_breakdown_violent_2019 = crime_df_2019.loc[crime_df[\"CATEGORY\"] == \"Violent\"]\n",
    "crime_breakdown_violent_2019 = crime_breakdown_violent_2019[[\"NEIGHBORHOOD\", \"YEAR\"]].groupby([\"NEIGHBORHOOD\"]).count()\n",
    "\n",
    "# Find non-violent crime numbers\n",
    "crime_breakdown_nonviolent_2019 = crime_df_2019.loc[crime_df[\"CATEGORY\"] == \"Non-Violent\"]\n",
    "crime_breakdown_nonviolent_2019 = crime_breakdown_nonviolent_2019[[\"NEIGHBORHOOD\", \"YEAR\"]].groupby([\"NEIGHBORHOOD\"]).count()\n",
    "\n",
    "# Merge all crime data with median home price - rename violent/non-violent\n",
    "nbh_crime_2019 = pd.merge(parcel_median_2019, total_crime_2019, on=\"NEIGHBORHOOD\", how='left')\n",
    "nbh_crime_violent_2019 = pd.merge(parcel_median_2019, crime_breakdown_violent_2019, on=\"NEIGHBORHOOD\", how='left')\n",
    "nbh_crime_nonviolent_2019 = pd.merge(parcel_median_2019, crime_breakdown_nonviolent_2019, on=\"NEIGHBORHOOD\", how='left')\n",
    "\n",
    "medhome_crime_2019 = pd.merge(total_crime_2019, nbh_crime_violent_2019, on=[\"NEIGHBORHOOD\"], how='left')\n",
    "medhome_crime_2019 = pd.merge(medhome_crime_2019, nbh_crime_nonviolent_2019, on=[\"NEIGHBORHOOD\", \"TOTALVALUE\"], how='left')\n",
    "\n",
    "medhome_crime_2019 = medhome_crime_2019.rename(columns={\"TOTALVALUE\": \"Median Home Value\", \"YEAR_x\": \"Total Crime\", \"YEAR_y\": \"Violent Crime\", \"YEAR\": \"Non-Violent Crime\"})\n",
    "medhome_crime_2019 = medhome_crime_2019[[\"Median Home Value\", \"Total Crime\", \"Violent Crime\", \"Non-Violent Crime\"]]\n",
    "\n",
    "# Add population\n",
    "medhome_crime_2019 = pd.merge(medhome_crime_2019, census_df, on=\"NEIGHBORHOOD\", how='left')\n",
    "\n",
    "# Find Crime Rates\n",
    "total_crime_rate_2019 = (medhome_crime_2019[\"Total Crime\"] / (medhome_crime_2019[\"Total Population\"] / 100)).round(2)\n",
    "violent_crime_rate_2019 = (medhome_crime_2019[\"Violent Crime\"] / (medhome_crime_2019[\"Total Population\"] / 100)).round(2)\n",
    "nonviolent_crime_rate_2019 = (medhome_crime_2019[\"Non-Violent Crime\"] / (medhome_crime_2019[\"Total Population\"] / 100)).round(2)\n",
    "\n",
    "#Add crime rates to dataframe\n",
    "medhome_crime_2019[\"Crime Rate (Total)\"] = total_crime_rate_2019\n",
    "medhome_crime_2019[\"Violent Crime Rate\"] = violent_crime_rate_2019\n",
    "medhome_crime_2019[\"Non-Violent Crime Rate\"] = nonviolent_crime_rate_2019\n",
    "\n",
    "#Re-arrange columns\n",
    "medhome_crime_2019 = medhome_crime_2019[[\"NEIGHBORHOOD\",\n",
    "                               \"Median Home Value\", \n",
    "                               \"Total Crime\", \n",
    "                               \"Violent Crime\", \n",
    "                               \"Non-Violent Crime\",\n",
    "                               \"Crime Rate (Total)\",\n",
    "                               \"Violent Crime Rate\",\n",
    "                               \"Non-Violent Crime Rate\",\n",
    "                               \"Total Population\"]]\n",
    "\n",
    "#Save to CSV\n",
    "medhome_crime_2019.to_csv('cleandata_output/medhome_crime_2019.csv')\n",
    "\n",
    "medhome_crime_2019"
   ]
  },
  {
   "cell_type": "code",
   "execution_count": null,
   "metadata": {},
   "outputs": [],
   "source": [
    "##### 2018 #####\n",
    "parcel_df_2018 = parcel_df.loc[parcel_df[\"ASSESSMENT_YEAR\"] == 2018]\n",
    "crime_df_2018 = crime_df.loc[crime_df[\"YEAR\"] == 2018]\n",
    "\n",
    "# Find Median Home price by Neighborhood\n",
    "parcel_median_2018 = parcel_df_2018.groupby([\"NEIGHBORHOOD\"])[\"TOTALVALUE\"].median()\n",
    "\n",
    "# Find Total Crime by Neighborhood\n",
    "total_crime_2018 = crime_df_2018[[\"NEIGHBORHOOD\", \"YEAR\"]].groupby([\"NEIGHBORHOOD\"]).count()\n",
    "\n",
    "# Find violent crime numbers\n",
    "crime_breakdown_violent_2018 = crime_df_2018.loc[crime_df[\"CATEGORY\"] == \"Violent\"]\n",
    "crime_breakdown_violent_2018 = crime_breakdown_violent_2018[[\"NEIGHBORHOOD\", \"YEAR\"]].groupby([\"NEIGHBORHOOD\"]).count()\n",
    "\n",
    "# Find non-violent crime numbers\n",
    "crime_breakdown_nonviolent_2018 = crime_df_2018.loc[crime_df[\"CATEGORY\"] == \"Non-Violent\"]\n",
    "crime_breakdown_nonviolent_2018 = crime_breakdown_nonviolent_2018[[\"NEIGHBORHOOD\", \"YEAR\"]].groupby([\"NEIGHBORHOOD\"]).count()\n",
    "\n",
    "# Merge all crime data with median home price - rename violent/non-violent\n",
    "nbh_crime_2018 = pd.merge(parcel_median_2018, total_crime_2018, on=\"NEIGHBORHOOD\", how='left')\n",
    "nbh_crime_violent_2018 = pd.merge(parcel_median_2018, crime_breakdown_violent_2018, on=\"NEIGHBORHOOD\", how='left')\n",
    "nbh_crime_nonviolent_2018 = pd.merge(parcel_median_2018, crime_breakdown_nonviolent_2018, on=\"NEIGHBORHOOD\", how='left')\n",
    "\n",
    "medhome_crime_2018 = pd.merge(total_crime_2018, nbh_crime_violent_2018, on=[\"NEIGHBORHOOD\"], how='left')\n",
    "medhome_crime_2018 = pd.merge(medhome_crime_2018, nbh_crime_nonviolent_2018, on=[\"NEIGHBORHOOD\", \"TOTALVALUE\"], how='left')\n",
    "\n",
    "medhome_crime_2018 = medhome_crime_2018.rename(columns={\"TOTALVALUE\": \"Median Home Value\", \"YEAR_x\": \"Total Crime\", \"YEAR_y\": \"Violent Crime\", \"YEAR\": \"Non-Violent Crime\"})\n",
    "medhome_crime_2018 = medhome_crime_2018[[\"Median Home Value\", \"Total Crime\", \"Violent Crime\", \"Non-Violent Crime\"]]\n",
    "\n",
    "# Add population\n",
    "medhome_crime_2018 = pd.merge(medhome_crime_2018, census_df, on=\"NEIGHBORHOOD\", how='left')\n",
    "\n",
    "# Find Crime Rates\n",
    "total_crime_rate_2018 = (medhome_crime_2018[\"Total Crime\"] / (medhome_crime_2018[\"Total Population\"] / 100)).round(2)\n",
    "violent_crime_rate_2018 = (medhome_crime_2018[\"Violent Crime\"] / (medhome_crime_2018[\"Total Population\"] / 100)).round(2)\n",
    "nonviolent_crime_rate_2018 = (medhome_crime_2018[\"Non-Violent Crime\"] / (medhome_crime_2018[\"Total Population\"] / 100)).round(2)\n",
    "\n",
    "#Add crime rates to dataframe\n",
    "medhome_crime_2018[\"Crime Rate (Total)\"] = total_crime_rate_2018\n",
    "medhome_crime_2018[\"Violent Crime Rate\"] = violent_crime_rate_2018\n",
    "medhome_crime_2018[\"Non-Violent Crime Rate\"] = nonviolent_crime_rate_2018\n",
    "\n",
    "#Re-arrange columns\n",
    "medhome_crime_2018 = medhome_crime_2018[[\"NEIGHBORHOOD\",\n",
    "                               \"Median Home Value\", \n",
    "                               \"Total Crime\", \n",
    "                               \"Violent Crime\", \n",
    "                               \"Non-Violent Crime\",\n",
    "                               \"Crime Rate (Total)\",\n",
    "                               \"Violent Crime Rate\",\n",
    "                               \"Non-Violent Crime Rate\",\n",
    "                               \"Total Population\"]]\n",
    "#Save to CSV\n",
    "medhome_crime_2018.to_csv('cleandata_output/medhome_crime_2018.csv')\n",
    "\n",
    "medhome_crime_2018"
   ]
  },
  {
   "cell_type": "code",
   "execution_count": null,
   "metadata": {},
   "outputs": [],
   "source": [
    "##### 2017 #####\n",
    "parcel_df_2017 = parcel_df.loc[parcel_df[\"ASSESSMENT_YEAR\"] == 2017]\n",
    "crime_df_2017 = crime_df.loc[crime_df[\"YEAR\"] == 2017]\n",
    "\n",
    "# Find Median Home price by Neighborhood\n",
    "parcel_median_2017 = parcel_df_2017.groupby([\"NEIGHBORHOOD\"])[\"TOTALVALUE\"].median()\n",
    "\n",
    "# Find Total Crime by Neighborhood\n",
    "total_crime_2017 = crime_df_2017[[\"NEIGHBORHOOD\", \"YEAR\"]].groupby([\"NEIGHBORHOOD\"]).count()\n",
    "\n",
    "# Find violent crime numbers\n",
    "crime_breakdown_violent_2017 = crime_df_2017.loc[crime_df[\"CATEGORY\"] == \"Violent\"]\n",
    "crime_breakdown_violent_2017 = crime_breakdown_violent_2017[[\"NEIGHBORHOOD\", \"YEAR\"]].groupby([\"NEIGHBORHOOD\"]).count()\n",
    "\n",
    "# Find non-violent crime numbers\n",
    "crime_breakdown_nonviolent_2017 = crime_df_2017.loc[crime_df[\"CATEGORY\"] == \"Non-Violent\"]\n",
    "crime_breakdown_nonviolent_2017 = crime_breakdown_nonviolent_2017[[\"NEIGHBORHOOD\", \"YEAR\"]].groupby([\"NEIGHBORHOOD\"]).count()\n",
    "\n",
    "# Merge all crime data with median home price - rename violent/non-violent\n",
    "nbh_crime_2017 = pd.merge(parcel_median_2017, total_crime_2017, on=\"NEIGHBORHOOD\", how='left')\n",
    "nbh_crime_violent_2017 = pd.merge(parcel_median_2017, crime_breakdown_violent_2017, on=\"NEIGHBORHOOD\", how='left')\n",
    "nbh_crime_nonviolent_2017 = pd.merge(parcel_median_2017, crime_breakdown_nonviolent_2017, on=\"NEIGHBORHOOD\", how='left')\n",
    "\n",
    "medhome_crime_2017 = pd.merge(total_crime_2017, nbh_crime_violent_2017, on=[\"NEIGHBORHOOD\"], how='left')\n",
    "medhome_crime_2017 = pd.merge(medhome_crime_2017, nbh_crime_nonviolent_2017, on=[\"NEIGHBORHOOD\", \"TOTALVALUE\"], how='left')\n",
    "\n",
    "medhome_crime_2017 = medhome_crime_2017.rename(columns={\"TOTALVALUE\": \"Median Home Value\", \"YEAR_x\": \"Total Crime\", \"YEAR_y\": \"Violent Crime\", \"YEAR\": \"Non-Violent Crime\"})\n",
    "medhome_crime_2017 = medhome_crime_2017[[\"Median Home Value\", \"Total Crime\", \"Violent Crime\", \"Non-Violent Crime\"]]\n",
    "\n",
    "# Add population\n",
    "medhome_crime_2017 = pd.merge(medhome_crime_2017, census_df, on=\"NEIGHBORHOOD\", how='left')\n",
    "\n",
    "# Find Crime Rates\n",
    "total_crime_rate_2017 = (medhome_crime_2017[\"Total Crime\"] / (medhome_crime_2017[\"Total Population\"] / 100)).round(2)\n",
    "violent_crime_rate_2017 = (medhome_crime_2017[\"Violent Crime\"] / (medhome_crime_2017[\"Total Population\"] / 100)).round(2)\n",
    "nonviolent_crime_rate_2017 = (medhome_crime_2017[\"Non-Violent Crime\"] / (medhome_crime_2017[\"Total Population\"] / 100)).round(2)\n",
    "\n",
    "#Add crime rates to dataframe\n",
    "medhome_crime_2017[\"Crime Rate (Total)\"] = total_crime_rate_2017\n",
    "medhome_crime_2017[\"Violent Crime Rate\"] = violent_crime_rate_2017\n",
    "medhome_crime_2017[\"Non-Violent Crime Rate\"] = nonviolent_crime_rate_2017\n",
    "\n",
    "#Re-arrange columns\n",
    "medhome_crime_2017 = medhome_crime_2018[[\"NEIGHBORHOOD\",\n",
    "                               \"Median Home Value\", \n",
    "                               \"Total Crime\", \n",
    "                               \"Violent Crime\", \n",
    "                               \"Non-Violent Crime\",\n",
    "                               \"Crime Rate (Total)\",\n",
    "                               \"Violent Crime Rate\",\n",
    "                               \"Non-Violent Crime Rate\",\n",
    "                               \"Total Population\"]]\n",
    "#Save to CSV\n",
    "medhome_crime_2017.to_csv('cleandata_output/medhome_crime_2017.csv')\n",
    "\n",
    "medhome_crime_2017\n"
   ]
  },
  {
   "cell_type": "markdown",
   "metadata": {},
   "source": [
    "# USING DATA TO GRAPH & CHART"
   ]
  },
  {
   "cell_type": "code",
   "execution_count": null,
   "metadata": {},
   "outputs": [],
   "source": [
    "# 2017 Crime (Violent/Non-Violent) by Neighborhood - sorted by Value\n",
    "#Sort by Median Home Value \n",
    "medhome_crime_2017_sort = medhome_crime_2017.sort_values(by=\"Median Home Value\", ascending=False)\n",
    "colors = [\"#FA3B02\", '#DAA520']\n",
    "# Plot using bar graph\n",
    "crime_bar_2017 = medhome_crime_2017_sort.plot(kind='bar', x='NEIGHBORHOOD', y=['Violent Crime', 'Non-Violent Crime'], stacked=True, figsize=(18,5), color=colors)\n",
    "plt.ylabel(\"CRIME RATE\", fontsize=14)\n",
    "plt.xlabel(\"NEIGHBORHOOD\", fontsize=14)\n",
    "plt.title(\"Crime by Neighborhood : 2017\", fontsize=18)\n",
    "ax = plt.gca() #returns the access to object\n",
    "ax.get_yaxis().set_major_formatter(plt.FuncFormatter(lambda x, loc: \"{:,}\".format(int(x))))\n",
    "plt.tight_layout()\n",
    "plt.savefig('charts_output/07_b_2017_Crime_by_nbh.png')\n",
    "plt.show()"
   ]
  },
  {
   "cell_type": "code",
   "execution_count": null,
   "metadata": {},
   "outputs": [],
   "source": [
    "# 2018 Crime (Violent/Non-Violent) by Neighborhood - sorted by Value\n",
    "#Sort by Median Home Value \n",
    "medhome_crime_2018_sort = medhome_crime_2018.sort_values(by=\"Median Home Value\", ascending=False)\n",
    "\n",
    "# Plot using bar graph\n",
    "crime_bar_2018 = medhome_crime_2018_sort.plot(kind='bar', x='NEIGHBORHOOD', y=['Violent Crime', 'Non-Violent Crime'], stacked=True, figsize=(18,5), color=colors)\n",
    "plt.ylabel(\"CRIME RATE\", fontsize=14)\n",
    "plt.xlabel(\"NEIGHBORHOOD\", fontsize=14)\n",
    "plt.title(\"Crime by Neighborhood : 2018\", fontsize=18)\n",
    "plt.tight_layout()\n",
    "plt.savefig('charts_output/08_b_2018_Crime_by_nbh.png')\n",
    "plt.show()"
   ]
  },
  {
   "cell_type": "code",
   "execution_count": null,
   "metadata": {},
   "outputs": [],
   "source": [
    "# 2017 Crime (Violent/Non-Violent) by Neighborhood - sorted by Value\n",
    "#Sort by Median Home Value \n",
    "medhome_crime_2019_sort = medhome_crime_2019.sort_values(by=\"Median Home Value\", ascending=False)\n",
    "\n",
    "# Plot using bar graph\n",
    "crime_bar_2019 = medhome_crime_2019_sort.plot(kind='bar', x='NEIGHBORHOOD', y=['Violent Crime', 'Non-Violent Crime'], stacked=True, figsize=(18,5), title=\"Crime by Neighborhood : 2019\", color=colors)\n",
    "plt.ylabel(\"CRIME RATE\", fontsize=14)\n",
    "plt.xlabel(\"NEIGHBORHOOD\", fontsize=14)\n",
    "plt.title(\"Crime by Neighborhood : 2019\", fontsize=18)\n",
    "ax = plt.gca() #returns the access to object\n",
    "ax.get_yaxis().set_major_formatter(plt.FuncFormatter(lambda x, loc: \"{:,}\".format(int(x))))\n",
    "plt.tight_layout()\n",
    "plt.savefig('charts_output/09_b_2019_Crime_by_nbh.png')\n",
    "plt.show()"
   ]
  },
  {
   "cell_type": "markdown",
   "metadata": {},
   "source": [
    "# FINDING QUARTILES FOR HYPOTHESIS TESTING"
   ]
  },
  {
   "cell_type": "code",
   "execution_count": null,
   "metadata": {},
   "outputs": [],
   "source": [
    "# Box Plot to find quartiles for hypothesis testing\n",
    "# Put the three years into a list that can be iterated over in a for-loop \n",
    "# (and later used for plot labels)\n",
    "\n",
    "years = [2017, 2018, 2019]\n",
    "\n",
    "# Create empty list to fill with housing data\n",
    "\n",
    "home_value_list =[]\n",
    "\n",
    "\n",
    "# Calculate the IQR and quantitatively determine if there are any potential outliers. \n",
    "for year in years:\n",
    "    # Locate the rows which contain home values for each year and get the total value\n",
    "    # Find using .loc to match year from list - then find total value\n",
    "    total_value = parcel_df.loc[parcel_df[\"ASSESSMENT_YEAR\"] == year, \"TOTALVALUE\"]\n",
    "    \n",
    "    # add subset - #append the total value to a list\n",
    "    home_value_list.append(total_value)\n",
    "    \n",
    "    # Determine outliers using upper and lower bounds\n",
    "    # If the data is in a dataframe\n",
    "    quartiles = total_value.quantile([.25,.5,.75])\n",
    "    lowerq = quartiles[0.25]\n",
    "    upperq = quartiles[0.75]\n",
    "    iqr = upperq-lowerq\n",
    "    \n",
    "    lower_bound = lowerq - (1.5*iqr)\n",
    "    upper_bound = upperq + (1.5*iqr)\n",
    "    \n",
    "    #Find outliersby using .loc and an \"OR\" statement \n",
    "    outliers = total_value.loc[(total_value < lower_bound) | (total_value > upper_bound)]\n",
    "    maxoutlier = outliers.max()\n",
    "    minoutlier = outliers.min()\n",
    "    print(f\"{year}'s outliers are:\")\n",
    "    print(f\"{outliers}\")\n",
    "    print(f\"Max outlier is {maxoutlier}\")\n",
    "    print(f\"Min outlier is {minoutlier}\")\n",
    "    print(\" \")\n",
    "    \n",
    "    #Print Quartiles for Hypothesis Testing\n",
    "    print(f\"{year}'s quartiles are:\") \n",
    "    print(f\"{quartiles}\") \n",
    "    print(\" \")"
   ]
  },
  {
   "cell_type": "code",
   "execution_count": null,
   "metadata": {},
   "outputs": [],
   "source": [
    "# Generate a box plot of the final tumor volume of each mouse across four regimens of interest\n",
    "dot_outlier = dict(markerfacecolor='#1A6675')\n",
    "\n",
    "fig1, ax1 = plt.subplots(figsize=(15, 10))\n",
    "ax1.set_title('Property Value by Year', fontsize=18)\n",
    "ax1.set_ylabel('PROPERTY VALUE ($)', fontsize=14)\n",
    "# ax1.set_xlabel('YEAR', fontsize=14)\n",
    "ax1.boxplot(home_value_list, labels=years, flierprops=dot_outlier)\n",
    "ax = plt.gca() #returns the access to object\n",
    "ax.get_yaxis().set_major_formatter(plt.FuncFormatter(lambda x, loc: \"{:,}\".format(int(x))))\n",
    "plt.tight_layout()\n",
    "plt.savefig('charts_output/10_bp_MedianValue_Year.png')\n",
    "plt.show()"
   ]
  },
  {
   "cell_type": "code",
   "execution_count": null,
   "metadata": {},
   "outputs": [],
   "source": [
    "#Matt End"
   ]
  },
  {
   "cell_type": "code",
   "execution_count": null,
   "metadata": {},
   "outputs": [],
   "source": [
    "#Emilio2 Starts"
   ]
  },
  {
   "cell_type": "code",
   "execution_count": null,
   "metadata": {},
   "outputs": [],
   "source": [
    "medhome_crime.head(3)"
   ]
  },
  {
   "cell_type": "code",
   "execution_count": null,
   "metadata": {},
   "outputs": [],
   "source": [
    "pd.qcut(medhome_crime['Median Home Value'], q=5)"
   ]
  },
  {
   "cell_type": "code",
   "execution_count": null,
   "metadata": {},
   "outputs": [],
   "source": [
    "bins = (0, 203400.0, 236100.0, 284700.0, 387600.0, 10000000)\n",
    "group_labels = ('low', 'mid-low', 'mid', 'mid-high', 'high')\n",
    "medhome_crime['Distribution'] = pd.cut(medhome_crime['Median Home Value'], \n",
    "                                       bins, labels=group_labels, include_lowest=True)"
   ]
  },
  {
   "cell_type": "code",
   "execution_count": null,
   "metadata": {},
   "outputs": [],
   "source": [
    "medhome_crime"
   ]
  },
  {
   "cell_type": "code",
   "execution_count": null,
   "metadata": {},
   "outputs": [],
   "source": [
    "medhome_crime_dist = medhome_crime[['Median Home Value', 'Crime Rate (Total)', 'Violent Crime Rate', 'Non-Violent Crime Rate', 'Distribution']].groupby(['Distribution']).mean()\n",
    "medhome_crime_dist = medhome_crime_dist.rename(columns={'Median Home Value':'Mean of Median Property Value'})\n",
    "medhome_crime_dist"
   ]
  },
  {
   "cell_type": "code",
   "execution_count": null,
   "metadata": {},
   "outputs": [],
   "source": [
    "population1 = medhome_crime[medhome_crime['Distribution'] == 'low']['Total Crime']\n",
    "population2 = medhome_crime[medhome_crime['Distribution'] == 'mid-low']['Total Crime']\n",
    "population3 = medhome_crime[medhome_crime['Distribution'] == 'mid']['Total Crime']\n",
    "population4 = medhome_crime[medhome_crime['Distribution'] == 'mid-high']['Total Crime']\n",
    "population5 = medhome_crime[medhome_crime['Distribution'] == 'high']['Total Crime']"
   ]
  },
  {
   "cell_type": "code",
   "execution_count": null,
   "metadata": {},
   "outputs": [],
   "source": [
    "# Calculate Independent (Two Sample) t-test\n",
    "st.ttest_ind(population1, population5, equal_var=False)"
   ]
  },
  {
   "cell_type": "code",
   "execution_count": null,
   "metadata": {},
   "outputs": [],
   "source": [
    "medhome_crime.head()"
   ]
  },
  {
   "cell_type": "code",
   "execution_count": null,
   "metadata": {},
   "outputs": [],
   "source": [
    "medhome_crime.boxplot(\"Total Crime\", by=\"Distribution\", figsize=(18, 10))\n",
    "\n",
    "plt.xlabel('GROUPS', fontsize=14)\n",
    "plt.ylabel('CRIME RATE', fontsize=14)\n",
    "#plt.title('Median Property Value vs. Crime, by Neighborhood', fontsize=18)\n",
    "ax = plt.gca() #returns the access to object\n",
    "ax.get_yaxis().set_major_formatter(plt.FuncFormatter(lambda x, loc: \"{:,}\".format(int(x))))\n",
    "#plt.tight_layout()\n",
    "plt.savefig('charts_output/11_bp_bp_grouped-by-distribution.png')\n",
    "plt.show()"
   ]
  },
  {
   "cell_type": "code",
   "execution_count": null,
   "metadata": {},
   "outputs": [],
   "source": [
    " # Perform the ANOVA\n",
    "crime1 = medhome_crime[medhome_crime['Distribution'] == 'low']['Total Crime']\n",
    "crime2 = medhome_crime[medhome_crime['Distribution'] == 'mid-low']['Total Crime']\n",
    "crime3 = medhome_crime[medhome_crime['Distribution'] == 'mid']['Total Crime']\n",
    "crime4 = medhome_crime[medhome_crime['Distribution'] == 'mid-high']['Total Crime']\n",
    "crime5 = medhome_crime[medhome_crime['Distribution'] == 'high']['Total Crime']\n",
    "\n",
    "st.f_oneway(crime1, crime2, crime3, crime4, crime5)"
   ]
  },
  {
   "cell_type": "markdown",
   "metadata": {},
   "source": [
    "# Other charts"
   ]
  },
  {
   "cell_type": "code",
   "execution_count": null,
   "metadata": {},
   "outputs": [],
   "source": [
    "# Pie charts\n",
    "pie_crime_values = medhome_crime[['Total Crime', 'Violent Crime', 'Non-Violent Crime', 'Distribution']].groupby(['Distribution']).sum()\n",
    "pie_crime_norm = medhome_crime[['Crime Rate (Total)', 'Violent Crime Rate', 'Non-Violent Crime Rate', 'Distribution']].groupby(['Distribution']).sum()\n",
    "pie_crime_norm"
   ]
  },
  {
   "cell_type": "code",
   "execution_count": null,
   "metadata": {},
   "outputs": [],
   "source": [
    "pie_crime_values"
   ]
  },
  {
   "cell_type": "code",
   "execution_count": null,
   "metadata": {},
   "outputs": [],
   "source": [
    "crime_df"
   ]
  },
  {
   "cell_type": "code",
   "execution_count": null,
   "metadata": {},
   "outputs": [],
   "source": [
    "crime_df['OFFENSE'].nunique()"
   ]
  },
  {
   "cell_type": "code",
   "execution_count": null,
   "metadata": {},
   "outputs": [],
   "source": [
    "colors = ['#DAA520', '#FA3B02']\n",
    "grouped_category = crime_df.groupby('CATEGORY')\n",
    "category_count = grouped_category['CATEGORY'].count()\n",
    "plt.figure(figsize=(5,5))\n",
    "crime_pie = category_count.plot(kind='pie', y='CATEGORY', subplots=True, autopct='%1.1f%%', colors=colors)\n",
    "plt.title('Violent & Non-Violent Crime Distribution', fontsize=18)\n",
    "plt.tight_layout()\n",
    "plt.savefig('charts_output/12_p_crime_distribution.png')\n",
    "plt.show()"
   ]
  },
  {
   "cell_type": "code",
   "execution_count": null,
   "metadata": {},
   "outputs": [],
   "source": [
    "category_count"
   ]
  },
  {
   "cell_type": "code",
   "execution_count": null,
   "metadata": {
    "scrolled": false
   },
   "outputs": [],
   "source": [
    "medhome_crime_sorted = medhome_crime.sort_values(by='Median Home Value', ascending=False)\n",
    "median_plot = medhome_crime_sorted.plot(kind='bar', x='NEIGHBORHOOD', y='Median Home Value', \n",
    "                                        figsize=(18,5), color='#1A6675')\n",
    "plt.title('Property Value Median by Neighborhood', fontsize=18)\n",
    "plt.xlabel('NEIGHBORHOOD', fontsize=14)\n",
    "plt.ylabel('PROPERTY VALUE MEDIAN ($)',fontsize=14)\n",
    "ax = plt.gca() #returns the access to object\n",
    "ax.get_yaxis().set_major_formatter(plt.FuncFormatter(lambda x, loc: \"{:,}\".format(int(x))))\n",
    "plt.tight_layout()\n",
    "plt.savefig('charts_output/13_b_val-by-nbh.png')\n",
    "plt.show()"
   ]
  },
  {
   "cell_type": "code",
   "execution_count": null,
   "metadata": {},
   "outputs": [],
   "source": [
    "colors_bar = ['#FA3B02', '#DAA520']\n",
    "total_crime_plot = medhome_crime_sorted.plot(kind='bar', x='NEIGHBORHOOD', y=['Violent Crime', 'Non-Violent Crime'], figsize=(18,5), \n",
    "                                          stacked=True, color=colors_bar)\n",
    "plt.title('Crime Rate by Neighborhood', fontsize=16)\n",
    "plt.xlabel('NEIGHBORHOOD')\n",
    "plt.ylabel('CRIME RATE')\n",
    "ax = plt.gca() #returns the access to object\n",
    "ax.get_yaxis().set_major_formatter(plt.FuncFormatter(lambda x, loc: \"{:,}\".format(int(x))))\n",
    "plt.tight_layout()\n",
    "plt.savefig('charts_output/14_crime-category-by-nbh.png')\n",
    "plt.show()"
   ]
  },
  {
   "cell_type": "code",
   "execution_count": null,
   "metadata": {},
   "outputs": [],
   "source": [
    "rate_crime_plot = medhome_crime_sorted.plot(kind='bar', x='NEIGHBORHOOD', y=['Violent Crime Rate', 'Non-Violent Crime Rate'], figsize=(18,5), \n",
    "                                          title='Housing Value Median by Neighborhood', stacked=True, color=colors_bar)\n",
    "plt.title('Normalized Crime Rate by Neighborhood', fontsize=18)\n",
    "plt.xlabel('NEIGHBORHOOD')\n",
    "plt.ylabel('CRIME RATE PER 100 PEOPLE')\n",
    "ax = plt.gca() #returns the access to object\n",
    "ax.get_yaxis().set_major_formatter(plt.FuncFormatter(lambda x, loc: \"{:,}\".format(int(x))))\n",
    "plt.tight_layout()\n",
    "plt.savefig('charts_output/15_b_crime-category-by-nbh_normal.png')\n",
    "plt.show()"
   ]
  },
  {
   "cell_type": "code",
   "execution_count": null,
   "metadata": {},
   "outputs": [],
   "source": [
    "#Emilio2 Ends"
   ]
  },
  {
   "cell_type": "code",
   "execution_count": null,
   "metadata": {},
   "outputs": [],
   "source": []
  },
  {
   "cell_type": "code",
   "execution_count": null,
   "metadata": {},
   "outputs": [],
   "source": []
  }
 ],
 "metadata": {
  "kernelspec": {
   "display_name": "Python 3",
   "language": "python",
   "name": "python3"
  },
  "language_info": {
   "codemirror_mode": {
    "name": "ipython",
    "version": 3
   },
   "file_extension": ".py",
   "mimetype": "text/x-python",
   "name": "python",
   "nbconvert_exporter": "python",
   "pygments_lexer": "ipython3",
   "version": "3.6.10"
  }
 },
 "nbformat": 4,
 "nbformat_minor": 4
}
